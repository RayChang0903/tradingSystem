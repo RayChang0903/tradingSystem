{
 "cells": [
  {
   "cell_type": "code",
   "execution_count": 17,
   "metadata": {},
   "outputs": [],
   "source": [
    "from collections import namedtuple\n",
    "import requests\n",
    "from socketIO_client import SocketIO\n",
    "import logging\n",
    "import json\n",
    "import uuid\n",
    "import threading\n",
    "from dateutil.parser import parse\n",
    "from datetime import datetime\n",
    "import time\n",
    "import types\n",
    "from configparser import ConfigParser"
   ]
  },
  {
   "cell_type": "code",
   "execution_count": 2,
   "metadata": {},
   "outputs": [],
   "source": [
    "import json\n",
    "from importlib import reload\n",
    "import fxcm_rest_api_token as fxcm_rest_api\n",
    "result = reload(fxcm_rest_api)"
   ]
  },
  {
   "cell_type": "code",
   "execution_count": 26,
   "metadata": {},
   "outputs": [],
   "source": [
    "cfg = ConfigParser()\n",
    "cfg.read('fxcm.cfg')\n",
    "token = cfg.get('FXCM','access_token')"
   ]
  },
  {
   "cell_type": "code",
   "execution_count": 28,
   "metadata": {
    "scrolled": true
   },
   "outputs": [
    {
     "data": {
      "text/plain": [
       "{'status': True, 'data': 'Connecting'}"
      ]
     },
     "execution_count": 28,
     "metadata": {},
     "output_type": "execute_result"
    },
    {
     "name": "stdout",
     "output_type": "stream",
     "text": [
      "Websocket connected: YjQDP88ZgVU1IHGFAGq5\n"
     ]
    }
   ],
   "source": [
    "trader = fxcm_rest_api.Trader(token, 'real')\n",
    "trader.debug_level = \"error\" # verbose logging... don't set to receive errors only\n",
    "trader.login()\n",
    "### Wait until connection is established - you will see \"Websocket connected\" message"
   ]
  },
  {
   "cell_type": "code",
   "execution_count": 7,
   "metadata": {},
   "outputs": [
    {
     "name": "stderr",
     "output_type": "stream",
     "text": [
      "2022-02-18 14:57:55,721 - 4ac66628e8e3df9b1deb8d9106eccf8902f9756e_real_e6eaf1e6 - INFO - https://api.fxcm.com/subscribe{'pairs': 'EUR/USD'}\n"
     ]
    },
    {
     "name": "stdout",
     "output_type": "stream",
     "text": [
      "{'status': True, 'response': {'executed': True, 'error': ''}, 'pairs': [{'Updated': 1645167474571, 'Rates': [1.1371, 1.13723, 1.13725, 1.13561, 1.1371, 1.13723], 'Symbol': 'EUR/USD'}]}\n"
     ]
    }
   ],
   "source": [
    "# 即時價格\n",
    "live_feed = trader.subscribe_symbol('EUR/USD')\n",
    "print(live_feed)\n"
   ]
  },
  {
   "cell_type": "code",
   "execution_count": 10,
   "metadata": {},
   "outputs": [
    {
     "name": "stderr",
     "output_type": "stream",
     "text": [
      "2022-02-18 15:01:24,015 - 4ac66628e8e3df9b1deb8d9106eccf8902f9756e_real_e6eaf1e6 - INFO - https://api.fxcm.com/candles/1/m1{'num': 10}\n"
     ]
    }
   ],
   "source": [
    "# his_price =trader.candles(\"EUR/USD\", \"m1\", 10, dt_fmt=\"%Y/%m/%d %H:%M:%S\")['candles']\n",
    "his_price = trader.candles(\"EUR/USD\", \"m1\", 10, dt_fmt=\"%Y/%m/%d %H:%M:%S\")['candles']\n",
    "# print(len(his_price))\n",
    "# for candle in his_price:\n",
    "#     print(candle)"
   ]
  },
  {
   "cell_type": "code",
   "execution_count": null,
   "metadata": {},
   "outputs": [],
   "source": [
    "help(trader.open_trade)"
   ]
  },
  {
   "cell_type": "code",
   "execution_count": null,
   "metadata": {},
   "outputs": [],
   "source": [
    "res = trader.open_trade(trader.account_id, \"USD/JPY\", True, 1)\n",
    "orderId = res['data']['orderId']"
   ]
  },
  {
   "cell_type": "code",
   "execution_count": null,
   "metadata": {},
   "outputs": [],
   "source": [
    "tradeId = trader.get_tradeId(orderId)"
   ]
  },
  {
   "cell_type": "code",
   "execution_count": null,
   "metadata": {},
   "outputs": [],
   "source": [
    "print(tradeId)"
   ]
  },
  {
   "cell_type": "code",
   "execution_count": null,
   "metadata": {
    "collapsed": true
   },
   "outputs": [],
   "source": [
    "def print_candles(candle_data):\n",
    "    candles = candle_data['candles']\n",
    "    headers = candle_data['headers']\n",
    "    print(\"{0[10]}, {0[1]}, {0[3]}, {0[4]}, {0[2]}\".format(headers))\n",
    "    candles.reverse()\n",
    "    for candle in candles:\n",
    "        print(\"{0[10]}, {0[1]:0.6}, {0[3]:0.6}, {0[4]:0.6}, {0[2]:0.6}\".format(candle))"
   ]
  },
  {
   "cell_type": "code",
   "execution_count": null,
   "metadata": {},
   "outputs": [],
   "source": [
    "cd = trader.candles(\"EUR/USD\", \"m15\", 45, dt_fmt=\"%Y/%m/%d %H:%M:%S\")\n",
    "print_candles(cd)"
   ]
  },
  {
   "cell_type": "code",
   "execution_count": null,
   "metadata": {},
   "outputs": [],
   "source": [
    "trader.candles_as_dict(\"EUR/USD\", \"m1\", 1, dt_fmt=\"%Y/%m/%d %H:%M:%S\")"
   ]
  },
  {
   "cell_type": "code",
   "execution_count": null,
   "metadata": {},
   "outputs": [],
   "source": [
    "trader.accounts"
   ]
  },
  {
   "cell_type": "code",
   "execution_count": null,
   "metadata": {},
   "outputs": [],
   "source": [
    "trader.properties"
   ]
  },
  {
   "cell_type": "code",
   "execution_count": null,
   "metadata": {},
   "outputs": [],
   "source": [
    "print(trader.account_id)"
   ]
  },
  {
   "cell_type": "markdown",
   "metadata": {},
   "source": [
    "#### Show how to supply a different handler for subscription items"
   ]
  },
  {
   "cell_type": "code",
   "execution_count": null,
   "metadata": {
    "collapsed": true
   },
   "outputs": [],
   "source": [
    "\n",
    "def show(msg):\n",
    "    '''\n",
    "    Sample price handler. If on_price_update is registered for a symbol,\n",
    "    it will update the symbol's values (stored in a symbol hash) with\n",
    "    that price update.symbol hash.\n",
    "\n",
    "    :return: none\n",
    "    '''\n",
    "    try:\n",
    "        md = json.loads(msg)\n",
    "        symbol = md[\"Symbol\"]\n",
    "        t = trader\n",
    "        si = trader.symbol_info.get(symbol, {})\n",
    "        p_up = dict(symbol_info=t.symbol_info[symbol], parent=t)\n",
    "        t.symbols[symbol] = t.symbols.get(symbol, fxcm_rest_api\n",
    "                                          .PriceUpdate(p_up,\n",
    "                                                       symbol_info=si))\n",
    "        trader.symbols[symbol].bid, trader.symbols[symbol].ask,\\\n",
    "            trader.symbols[symbol].high,\\\n",
    "            trader.symbols[symbol].low = md['Rates']\n",
    "        trader.symbols[symbol].updated = md['Updated']\n",
    "        print(t.symbols[symbol])\n",
    "    except Exception as e:\n",
    "        trader.logger.error(\"Can't handle price update: \" + str(e))\n",
    "\n",
    "# trader = fx"
   ]
  },
  {
   "cell_type": "code",
   "execution_count": null,
   "metadata": {
    "scrolled": true
   },
   "outputs": [],
   "source": [
    "trader.subscribe_symbol(\"EUR/USD\", handler=show)"
   ]
  },
  {
   "cell_type": "code",
   "execution_count": null,
   "metadata": {},
   "outputs": [],
   "source": [
    "result = trader.subscribe_symbol(\"GBP/JPY\")\n",
    "print(result)\n",
    "print(trader.subscriptions)"
   ]
  },
  {
   "cell_type": "code",
   "execution_count": null,
   "metadata": {},
   "outputs": [],
   "source": [
    "print(trader.symbols[\"GBP/JPY\"])\n",
    "print(trader.symbols[\"GBP/JPY\"].bid)\n",
    "print(trader.symbols[\"GBP/JPY\"].ask)"
   ]
  },
  {
   "cell_type": "code",
   "execution_count": null,
   "metadata": {},
   "outputs": [],
   "source": [
    "print(trader.symbols['GBP/JPY'].parent)"
   ]
  },
  {
   "cell_type": "code",
   "execution_count": null,
   "metadata": {
    "collapsed": true
   },
   "outputs": [],
   "source": [
    "trader.open_trade(trader.account_id, \"USD/JPY\", True, 1, at_market=1, time_in_force=\"FOK\")"
   ]
  },
  {
   "cell_type": "code",
   "execution_count": 16,
   "metadata": {},
   "outputs": [
    {
     "name": "stderr",
     "output_type": "stream",
     "text": [
      "2022-02-18 15:12:31,590 - 4ac66628e8e3df9b1deb8d9106eccf8902f9756e_real_e6eaf1e6 - INFO - https://api.fxcm.com/candles/2/m1{'num': 3}\n",
      "2022-02-18 15:12:31,874 - 4ac66628e8e3df9b1deb8d9106eccf8902f9756e_real_e6eaf1e6 - INFO - https://api.fxcm.com/candles/2/m1{'num': 3}\n"
     ]
    },
    {
     "name": "stdout",
     "output_type": "stream",
     "text": [
      "[[1645168200, 115.155, 115.136, 115.155, 115.131, 115.167, 115.149, 115.167, 115.145, 99, '2022/02/18 15:10:00'], [1645168260, 115.137, 115.139, 115.139, 115.133, 115.15, 115.153, 115.153, 115.147, 104, '2022/02/18 15:11:00'], [1645168320, 115.14, 115.13, 115.141, 115.129, 115.153, 115.144, 115.155, 115.143, 40, '2022/02/18 15:12:00']]\n",
      "{'status': True, 'response': {'executed': True, 'error': ''}, 'instrument_id': '2', 'period_id': 'm1', 'candles': <map object at 0x000001C976D613A0>, 'headers': ['timestamp', 'bidopen', 'bidclose', 'bidhigh', 'bidlow', 'askopen', 'askclose', 'askhigh', 'asklow', 'tickqty', 'datestring']}\n"
     ]
    }
   ],
   "source": [
    "print(trader.candles(\"USD/JPY\", \"m1\", 3, dt_fmt=\"%Y/%m/%d %H:%M:%S\")['candles'])\n",
    "print(trader.candles_as_dict(\"USD/JPY\", \"m1\", 3, dt_fmt=\"%Y/%m/%d %H:%M:%S\"))"
   ]
  }
 ],
 "metadata": {
  "kernelspec": {
   "display_name": "Python 3 (ipykernel)",
   "language": "python",
   "name": "python3"
  },
  "language_info": {
   "codemirror_mode": {
    "name": "ipython",
    "version": 3
   },
   "file_extension": ".py",
   "mimetype": "text/x-python",
   "name": "python",
   "nbconvert_exporter": "python",
   "pygments_lexer": "ipython3",
   "version": "3.8.12"
  }
 },
 "nbformat": 4,
 "nbformat_minor": 2
}
